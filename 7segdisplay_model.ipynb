{
  "nbformat": 4,
  "nbformat_minor": 0,
  "metadata": {
    "colab": {
      "name": "7segdisplay_model.ipynb",
      "provenance": [],
      "collapsed_sections": [],
      "authorship_tag": "ABX9TyMQkiFp1pZ13ZI5Awog6Tkv"
    },
    "kernelspec": {
      "name": "python3",
      "display_name": "Python 3"
    },
    "language_info": {
      "name": "python"
    }
  },
  "cells": [
    {
      "cell_type": "code",
      "execution_count": null,
      "metadata": {
        "id": "xHTFsQ9F-pHa"
      },
      "outputs": [],
      "source": [
        "import numpy as np\n",
        "import matplotlib.pyplot as plt\n",
        "from PIL import Image\n",
        "\n",
        "#data processing\n",
        "from sklearn.model_selection import train_test_split\n",
        "from sklearn.preprocessing import LabelBinarizer\n",
        "\n",
        "from tensorflow import keras    \n",
        "from keras.models import Sequential\n",
        "from keras.layers import Dense, Dropout, Flatten, Conv2D, MaxPool2D"
      ]
    },
    {
      "cell_type": "code",
      "source": [
        "data = '../input/7segmentdisplay/sevensegdataset.npy'\n",
        "features = np.load(data)\n",
        "X = features[:, :-1] \n",
        "Y = features[:, -1]"
      ],
      "metadata": {
        "id": "5ovLvg-e_Pdz"
      },
      "execution_count": null,
      "outputs": []
    },
    {
      "cell_type": "code",
      "source": [
        "labels = Y\n",
        "data = []\n",
        "for i in X:\n",
        "    data.append(np.reshape(i, (28,28)))\n",
        "data = np.array(data)\n",
        "#normalize data from 0 to 1\n",
        "data = np.array(data)/255"
      ],
      "metadata": {
        "id": "XDBDKrpn_SFn"
      },
      "execution_count": null,
      "outputs": []
    },
    {
      "cell_type": "code",
      "source": [
        "def show_img(arr):\n",
        "    img = Image.fromarray(np.uint8(arr), 'P')\n",
        "    plt.imshow(img)\n",
        "    plt.show()"
      ],
      "metadata": {
        "id": "4GtHUWFl_bFX"
      },
      "execution_count": null,
      "outputs": []
    },
    {
      "cell_type": "code",
      "source": [
        "def define_model():\n",
        "    model = Sequential()\n",
        "\n",
        "    model.add(Conv2D(filters = 32, kernel_size = (5,5),padding = 'Same', input_shape = (28,28,1)))\n",
        "    model.add(MaxPool2D(pool_size=(2,2)))\n",
        "\n",
        "    model.add(Conv2D(filters = 64, kernel_size = (3,3),padding = 'Same', activation ='relu'))\n",
        "    model.add(MaxPool2D(pool_size=(2,2), strides=(2,2)))\n",
        "    \n",
        "    model.add(Conv2D(filters = 128, kernel_size = (3,3),padding = 'Same', activation ='relu'))\n",
        "    model.add(MaxPool2D(pool_size=(2,2), strides=(2,2)))\n",
        "   \n",
        "\n",
        "    model.add(Flatten())\n",
        "    model.add(Dense(256))\n",
        "    model.add(Dropout(0.4))\n",
        "    model.add(Dense(10, activation = \"softmax\"))\n",
        "    \n",
        "    opt = keras.optimizers.RMSprop(lr=0.001, rho=0.9, epsilon=1e-08, decay=0.0)\n",
        "    model.compile(optimizer=opt, loss='categorical_crossentropy', metrics=['accuracy'])\n",
        "    return model"
      ],
      "metadata": {
        "id": "0ZIYwawZ_eDu"
      },
      "execution_count": null,
      "outputs": []
    },
    {
      "cell_type": "code",
      "source": [
        "x_train, x_test, y_train, y_test = train_test_split(data,labels,test_size=0.2)\n",
        "x_train = x_train.reshape((x_train.shape[0], 28, 28, 1))\n",
        "x_test = x_test.reshape((x_test.shape[0], 28, 28, 1))"
      ],
      "metadata": {
        "id": "vZWhOUQ9ASBR"
      },
      "execution_count": null,
      "outputs": []
    },
    {
      "cell_type": "code",
      "source": [
        "label_as_binary = LabelBinarizer()\n",
        "train__y_labels = label_as_binary.fit_transform(y_train)\n",
        "test_y_labels =  label_as_binary.fit_transform(y_test)"
      ],
      "metadata": {
        "id": "FnlffJvEAYCn"
      },
      "execution_count": null,
      "outputs": []
    },
    {
      "cell_type": "code",
      "source": [
        "model = define_model()\n",
        "batch_size = 32\n",
        "epochs = 6\n",
        "\n",
        "model.fit(x_train, train__y_labels,\n",
        "          batch_size=batch_size,\n",
        "          epochs=epochs,\n",
        "          verbose=1,\n",
        "          validation_data=(x_test, test_y_labels))\n",
        "score = model.evaluate(x_test, test_y_labels, verbose=0)\n",
        "print('Test loss:', score[0])\n",
        "print('Test accuracy:', score[1])\n",
        "model.save(\"test_6.h5\")\n",
        "print(\"Saved model to disk\")"
      ],
      "metadata": {
        "id": "6aWeWzMEAbNS"
      },
      "execution_count": null,
      "outputs": []
    }
  ]
}